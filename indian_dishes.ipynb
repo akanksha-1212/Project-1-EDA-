{
 "cells": [
  {
   "cell_type": "markdown",
   "id": "3bd22f25-3ad8-4e77-9c65-0a6502284218",
   "metadata": {},
   "source": [
    "# **Questions :-**"
   ]
  },
  {
   "cell_type": "markdown",
   "id": "4b9cdda4-6890-45cb-a408-4f9b6838353e",
   "metadata": {},
   "source": [
    "1.How many rows and columns are there in the dataset?"
   ]
  },
  {
   "cell_type": "markdown",
   "id": "b878131d-56e6-4826-9df5-0944682d1e24",
   "metadata": {},
   "source": [
    "2.What are the column names and their data types?"
   ]
  },
  {
   "cell_type": "markdown",
   "id": "900f5e2a-dc7a-4dc9-aa90-07784ba27aa1",
   "metadata": {},
   "source": [
    "3.How many unique dishes are there?"
   ]
  },
  {
   "cell_type": "markdown",
   "id": "97159f91-644e-490c-9616-2c78ea22cc83",
   "metadata": {},
   "source": [
    "4.What are the unique values in the diet, course, and Ingrediants columns?"
   ]
  },
  {
   "cell_type": "markdown",
   "id": "7a6d8c92-6177-49e8-b9ed-ec004aa950bc",
   "metadata": {},
   "source": [
    "5.Show the top 5 rows of the dataset."
   ]
  },
  {
   "cell_type": "markdown",
   "id": "036ecdf0-9fe5-4017-8343-5d43112b2b96",
   "metadata": {},
   "source": [
    "6.Are there any missing values in the dataset?"
   ]
  },
  {
   "cell_type": "markdown",
   "id": "be2b6c64-f0bc-47ff-b313-6410daf18f63",
   "metadata": {},
   "source": [
    "7.Remove duplicate rows (if any)."
   ]
  },
  {
   "cell_type": "markdown",
   "id": "952b7715-125d-41d5-a075-a27c1b5bec54",
   "metadata": {},
   "source": [
    "8.Convert time coloumns to numeric data types."
   ]
  },
  {
   "cell_type": "markdown",
   "id": "3bcf8ffe-7c88-444c-9144-73ae15f6da30",
   "metadata": {},
   "source": [
    "9.Plot distribution of dishes by diet type."
   ]
  },
  {
   "cell_type": "markdown",
   "id": "7e09d9ef-76b2-4093-b7be-686ca993a660",
   "metadata": {},
   "source": [
    "10.Pie chart of diet types."
   ]
  },
  {
   "cell_type": "markdown",
   "id": "03270b52-f2d6-4739-b2b1-0757a46a0dc4",
   "metadata": {},
   "source": [
    "11.Distribution of total cooking time."
   ]
  },
  {
   "cell_type": "markdown",
   "id": "d9ddf332-e450-4f9f-ae27-f770854e7bf7",
   "metadata": {},
   "source": [
    "12.Boxplot: Total time grouped by Course."
   ]
  },
  {
   "cell_type": "markdown",
   "id": "210f72cc-5983-448f-84ca-17d1fcc5d456",
   "metadata": {},
   "source": [
    "13.Heatmap of correlations between time columns."
   ]
  },
  {
   "cell_type": "markdown",
   "id": "3e49ba5c-a862-4784-adc8-20fb75b4f586",
   "metadata": {},
   "source": [
    "14.Which cuisine has the longest average total time?"
   ]
  },
  {
   "cell_type": "markdown",
   "id": "c5f6585a-cb39-4e65-ac37-69530dd33f52",
   "metadata": {},
   "source": [
    "15.Which course is the most common?"
   ]
  },
  {
   "cell_type": "markdown",
   "id": "89a8440d-9781-4ab0-9e39-7b1a0c7247ad",
   "metadata": {},
   "source": [
    "16.What are the top 5 longest recipes by total time?"
   ]
  },
  {
   "cell_type": "markdown",
   "id": "7f16e1cd-c254-4cb4-84a0-dbe05e3e9fc8",
   "metadata": {},
   "source": [
    "17.Which diet type takes the most time on average?"
   ]
  },
  {
   "cell_type": "markdown",
   "id": "13d727b2-518d-42c5-9dc4-59f8ba5eba2e",
   "metadata": {},
   "source": [
    "18.Find dishes that take more than 1 hour total time."
   ]
  },
  {
   "cell_type": "markdown",
   "id": "55000950-2ed4-4e4c-a988-3a53d025219a",
   "metadata": {},
   "source": [
    "19.Which course takes longest to prepare?"
   ]
  },
  {
   "cell_type": "markdown",
   "id": "223d8d84-14c5-4366-9edf-10c39930c409",
   "metadata": {},
   "source": [
    "___"
   ]
  },
  {
   "cell_type": "markdown",
   "id": "29dcb4c0-0dbf-4fdc-9095-a64b64dbfcb6",
   "metadata": {},
   "source": [
    "# **IMPORTING NECESSARY LIBRARIES**"
   ]
  },
  {
   "cell_type": "code",
   "execution_count": 2,
   "id": "c9493c6a-1d93-4e41-ae7c-4423138428e8",
   "metadata": {},
   "outputs": [],
   "source": [
    "import pandas as pd\n",
    "import seaborn as sns\n",
    "import matplotlib.pyplot as plt"
   ]
  },
  {
   "cell_type": "markdown",
   "id": "7734d8a6-70a0-4249-84ec-61224b66c30b",
   "metadata": {},
   "source": [
    "___"
   ]
  },
  {
   "cell_type": "markdown",
   "id": "972b1a07-8513-44b2-93e8-148e0e7871e2",
   "metadata": {},
   "source": [
    "# **ABOUT THE DATASET**"
   ]
  },
  {
   "cell_type": "code",
   "execution_count": 4,
   "id": "3e11304c-3548-44ef-b1c5-53c0879fa627",
   "metadata": {
    "scrolled": true
   },
   "outputs": [
    {
     "data": {
      "text/html": [
       "<div>\n",
       "<style scoped>\n",
       "    .dataframe tbody tr th:only-of-type {\n",
       "        vertical-align: middle;\n",
       "    }\n",
       "\n",
       "    .dataframe tbody tr th {\n",
       "        vertical-align: top;\n",
       "    }\n",
       "\n",
       "    .dataframe thead th {\n",
       "        text-align: right;\n",
       "    }\n",
       "</style>\n",
       "<table border=\"1\" class=\"dataframe\">\n",
       "  <thead>\n",
       "    <tr style=\"text-align: right;\">\n",
       "      <th></th>\n",
       "      <th>Srno</th>\n",
       "      <th>PrepTimeInMins</th>\n",
       "      <th>CookTimeInMins</th>\n",
       "      <th>TotalTimeInMins</th>\n",
       "      <th>Servings</th>\n",
       "    </tr>\n",
       "  </thead>\n",
       "  <tbody>\n",
       "    <tr>\n",
       "      <th>count</th>\n",
       "      <td>6871.000000</td>\n",
       "      <td>6871.000000</td>\n",
       "      <td>6871.000000</td>\n",
       "      <td>6871.000000</td>\n",
       "      <td>6871.000000</td>\n",
       "    </tr>\n",
       "    <tr>\n",
       "      <th>mean</th>\n",
       "      <td>4902.979042</td>\n",
       "      <td>28.585213</td>\n",
       "      <td>30.832339</td>\n",
       "      <td>59.417552</td>\n",
       "      <td>5.611410</td>\n",
       "    </tr>\n",
       "    <tr>\n",
       "      <th>std</th>\n",
       "      <td>3479.531022</td>\n",
       "      <td>81.042007</td>\n",
       "      <td>34.019694</td>\n",
       "      <td>88.699940</td>\n",
       "      <td>26.221807</td>\n",
       "    </tr>\n",
       "    <tr>\n",
       "      <th>min</th>\n",
       "      <td>1.000000</td>\n",
       "      <td>0.000000</td>\n",
       "      <td>0.000000</td>\n",
       "      <td>0.000000</td>\n",
       "      <td>1.000000</td>\n",
       "    </tr>\n",
       "    <tr>\n",
       "      <th>25%</th>\n",
       "      <td>1955.500000</td>\n",
       "      <td>10.000000</td>\n",
       "      <td>20.000000</td>\n",
       "      <td>30.000000</td>\n",
       "      <td>4.000000</td>\n",
       "    </tr>\n",
       "    <tr>\n",
       "      <th>50%</th>\n",
       "      <td>4304.000000</td>\n",
       "      <td>15.000000</td>\n",
       "      <td>30.000000</td>\n",
       "      <td>40.000000</td>\n",
       "      <td>4.000000</td>\n",
       "    </tr>\n",
       "    <tr>\n",
       "      <th>75%</th>\n",
       "      <td>7363.000000</td>\n",
       "      <td>20.000000</td>\n",
       "      <td>35.000000</td>\n",
       "      <td>55.000000</td>\n",
       "      <td>4.000000</td>\n",
       "    </tr>\n",
       "    <tr>\n",
       "      <th>max</th>\n",
       "      <td>14211.000000</td>\n",
       "      <td>2880.000000</td>\n",
       "      <td>900.000000</td>\n",
       "      <td>2925.000000</td>\n",
       "      <td>1000.000000</td>\n",
       "    </tr>\n",
       "  </tbody>\n",
       "</table>\n",
       "</div>"
      ],
      "text/plain": [
       "               Srno  PrepTimeInMins  CookTimeInMins  TotalTimeInMins  \\\n",
       "count   6871.000000     6871.000000     6871.000000      6871.000000   \n",
       "mean    4902.979042       28.585213       30.832339        59.417552   \n",
       "std     3479.531022       81.042007       34.019694        88.699940   \n",
       "min        1.000000        0.000000        0.000000         0.000000   \n",
       "25%     1955.500000       10.000000       20.000000        30.000000   \n",
       "50%     4304.000000       15.000000       30.000000        40.000000   \n",
       "75%     7363.000000       20.000000       35.000000        55.000000   \n",
       "max    14211.000000     2880.000000      900.000000      2925.000000   \n",
       "\n",
       "          Servings  \n",
       "count  6871.000000  \n",
       "mean      5.611410  \n",
       "std      26.221807  \n",
       "min       1.000000  \n",
       "25%       4.000000  \n",
       "50%       4.000000  \n",
       "75%       4.000000  \n",
       "max    1000.000000  "
      ]
     },
     "execution_count": 4,
     "metadata": {},
     "output_type": "execute_result"
    }
   ],
   "source": [
    "df=pd.read_csv(\"C:/Users/Pavilion/Downloads/archive.zip\")\n",
    "df.describe()"
   ]
  },
  {
   "cell_type": "markdown",
   "id": "e2fca121-e9a8-4291-8cd1-82c215bff402",
   "metadata": {},
   "source": [
    "___"
   ]
  },
  {
   "cell_type": "code",
   "execution_count": 4,
   "id": "c5ffe4cc-64d0-4105-a9bf-567ae822150f",
   "metadata": {},
   "outputs": [
    {
     "name": "stdout",
     "output_type": "stream",
     "text": [
      "<class 'pandas.core.frame.DataFrame'>\n",
      "RangeIndex: 6871 entries, 0 to 6870\n",
      "Data columns (total 15 columns):\n",
      " #   Column                  Non-Null Count  Dtype \n",
      "---  ------                  --------------  ----- \n",
      " 0   Srno                    6871 non-null   int64 \n",
      " 1   RecipeName              6871 non-null   object\n",
      " 2   TranslatedRecipeName    6871 non-null   object\n",
      " 3   Ingredients             6865 non-null   object\n",
      " 4   TranslatedIngredients   6865 non-null   object\n",
      " 5   PrepTimeInMins          6871 non-null   int64 \n",
      " 6   CookTimeInMins          6871 non-null   int64 \n",
      " 7   TotalTimeInMins         6871 non-null   int64 \n",
      " 8   Servings                6871 non-null   int64 \n",
      " 9   Cuisine                 6871 non-null   object\n",
      " 10  Course                  6871 non-null   object\n",
      " 11  Diet                    6871 non-null   object\n",
      " 12  Instructions            6871 non-null   object\n",
      " 13  TranslatedInstructions  6871 non-null   object\n",
      " 14  URL                     6871 non-null   object\n",
      "dtypes: int64(5), object(10)\n",
      "memory usage: 805.3+ KB\n"
     ]
    }
   ],
   "source": [
    "df.info()"
   ]
  },
  {
   "cell_type": "markdown",
   "id": "9df9bd4c-8844-4384-9e85-3a50b1ab9c06",
   "metadata": {},
   "source": [
    "*Used **info()** , for getting all the column names along with their non-null counts and data types.*"
   ]
  },
  {
   "cell_type": "markdown",
   "id": "41b72961-8a06-42e6-8035-7d8ba0d2920c",
   "metadata": {},
   "source": [
    "___"
   ]
  },
  {
   "cell_type": "markdown",
   "id": "ce365396-a23e-4452-9eb9-88b74b1a321b",
   "metadata": {},
   "source": [
    "# **1 Basic Exploration Questions**"
   ]
  },
  {
   "cell_type": "markdown",
   "id": "c76d6d74-ed79-4b67-9848-1544b9c58b6e",
   "metadata": {},
   "source": [
    "1.1.How many rows and columns are there in the dataset?"
   ]
  },
  {
   "cell_type": "code",
   "execution_count": 17,
   "id": "2099185f-e875-4dc8-8070-83abf76dd164",
   "metadata": {},
   "outputs": [
    {
     "data": {
      "text/plain": [
       "(6871, 15)"
      ]
     },
     "execution_count": 17,
     "metadata": {},
     "output_type": "execute_result"
    }
   ],
   "source": [
    "df.shape  #(no. of rows, no. of columns)\n"
   ]
  },
  {
   "cell_type": "markdown",
   "id": "75f97962-bebf-4d1d-b7f1-e5ce5117dcc3",
   "metadata": {},
   "source": [
    "*With the help of **shape()** , got the no. of rows and columns.*"
   ]
  },
  {
   "cell_type": "markdown",
   "id": "eaf6edbc-32f0-4ffe-a9bd-f59bdcb77b2f",
   "metadata": {},
   "source": [
    "___"
   ]
  },
  {
   "cell_type": "markdown",
   "id": "79727b54-6644-430f-a499-ed40ba8ad04a",
   "metadata": {},
   "source": [
    "1.2.What are the column names and their data types?"
   ]
  },
  {
   "cell_type": "code",
   "execution_count": 19,
   "id": "f7ae08bb-3072-4ed5-ad47-e681ff456cc1",
   "metadata": {},
   "outputs": [
    {
     "data": {
      "text/plain": [
       "Srno                       int64\n",
       "RecipeName                object\n",
       "TranslatedRecipeName      object\n",
       "Ingredients               object\n",
       "TranslatedIngredients     object\n",
       "PrepTimeInMins             int64\n",
       "CookTimeInMins             int64\n",
       "TotalTimeInMins            int64\n",
       "Servings                   int64\n",
       "Cuisine                   object\n",
       "Course                    object\n",
       "Diet                      object\n",
       "Instructions              object\n",
       "TranslatedInstructions    object\n",
       "URL                       object\n",
       "dtype: object"
      ]
     },
     "execution_count": 19,
     "metadata": {},
     "output_type": "execute_result"
    }
   ],
   "source": [
    "df.dtypes"
   ]
  },
  {
   "cell_type": "markdown",
   "id": "260433ee-5520-49dc-b71c-99b77f29235c",
   "metadata": {},
   "source": [
    "*Used **dtypes** to find out the names of columns with thier dtypes*"
   ]
  },
  {
   "cell_type": "markdown",
   "id": "83853715-bf62-4f1a-a0cf-fd9a1227fe41",
   "metadata": {},
   "source": [
    "___"
   ]
  },
  {
   "cell_type": "markdown",
   "id": "df4eb041-7371-47b9-972e-a11a0e4c7a63",
   "metadata": {},
   "source": [
    "1.3.How many unique dishes are there?"
   ]
  },
  {
   "cell_type": "code",
   "execution_count": 28,
   "id": "dcce974a-56cb-4ca5-8507-834bc5b2992d",
   "metadata": {
    "scrolled": true
   },
   "outputs": [
    {
     "data": {
      "text/plain": [
       "6844"
      ]
     },
     "execution_count": 28,
     "metadata": {},
     "output_type": "execute_result"
    }
   ],
   "source": [
    "df['TranslatedRecipeName'].nunique()"
   ]
  },
  {
   "cell_type": "markdown",
   "id": "4e6ed1b5-532d-44af-8e37-b89fd12b0f3b",
   "metadata": {},
   "source": [
    "*With the help of **nunique()** , got the total no of unique dishes that is 6844.* "
   ]
  },
  {
   "cell_type": "markdown",
   "id": "18834f25-12c7-4dfe-ac14-5b5b2e715ef7",
   "metadata": {},
   "source": [
    "___"
   ]
  },
  {
   "cell_type": "markdown",
   "id": "5a0bdba0-7ae3-440b-a1e9-b2acc15b0108",
   "metadata": {},
   "source": [
    "1.4.What are the unique values in the diet, course, and Ingrediants columns?"
   ]
  },
  {
   "cell_type": "code",
   "execution_count": 32,
   "id": "fdcb9f19-ec63-43bc-a5ed-ba221cdfd642",
   "metadata": {},
   "outputs": [
    {
     "name": "stdout",
     "output_type": "stream",
     "text": [
      "diet- 10\n",
      "course- 20\n",
      "Ingre.- 6856\n"
     ]
    }
   ],
   "source": [
    "print(\"diet-\",df['Diet'].nunique())\n",
    "print(\"course-\",df['Course'].nunique())\n",
    "print(\"Ingre.-\",df['Ingredients'].nunique())"
   ]
  },
  {
   "cell_type": "markdown",
   "id": "9361724e-df44-4992-9bf6-e85018315431",
   "metadata": {},
   "source": [
    "*Finding out the unique values in diet, course and ingrediants column with **nunique()** .*"
   ]
  },
  {
   "cell_type": "markdown",
   "id": "74e832cd-9160-44be-bea7-f572ffe16220",
   "metadata": {},
   "source": [
    "___"
   ]
  },
  {
   "cell_type": "markdown",
   "id": "d34dde2a-6047-4222-b293-008621fe8fe1",
   "metadata": {},
   "source": [
    "1.5.Show the top 5 rows of the dataset."
   ]
  },
  {
   "cell_type": "code",
   "execution_count": 33,
   "id": "68a99411-2f99-47a3-926a-c87e9208eb3c",
   "metadata": {
    "scrolled": true
   },
   "outputs": [
    {
     "data": {
      "text/html": [
       "<div>\n",
       "<style scoped>\n",
       "    .dataframe tbody tr th:only-of-type {\n",
       "        vertical-align: middle;\n",
       "    }\n",
       "\n",
       "    .dataframe tbody tr th {\n",
       "        vertical-align: top;\n",
       "    }\n",
       "\n",
       "    .dataframe thead th {\n",
       "        text-align: right;\n",
       "    }\n",
       "</style>\n",
       "<table border=\"1\" class=\"dataframe\">\n",
       "  <thead>\n",
       "    <tr style=\"text-align: right;\">\n",
       "      <th></th>\n",
       "      <th>Srno</th>\n",
       "      <th>RecipeName</th>\n",
       "      <th>TranslatedRecipeName</th>\n",
       "      <th>Ingredients</th>\n",
       "      <th>TranslatedIngredients</th>\n",
       "      <th>PrepTimeInMins</th>\n",
       "      <th>CookTimeInMins</th>\n",
       "      <th>TotalTimeInMins</th>\n",
       "      <th>Servings</th>\n",
       "      <th>Cuisine</th>\n",
       "      <th>Course</th>\n",
       "      <th>Diet</th>\n",
       "      <th>Instructions</th>\n",
       "      <th>TranslatedInstructions</th>\n",
       "      <th>URL</th>\n",
       "    </tr>\n",
       "  </thead>\n",
       "  <tbody>\n",
       "    <tr>\n",
       "      <th>0</th>\n",
       "      <td>1</td>\n",
       "      <td>Masala Karela Recipe</td>\n",
       "      <td>Masala Karela Recipe</td>\n",
       "      <td>6 Karela (Bitter Gourd/ Pavakkai) - deseeded,S...</td>\n",
       "      <td>6 Karela (Bitter Gourd/ Pavakkai) - deseeded,S...</td>\n",
       "      <td>15</td>\n",
       "      <td>30</td>\n",
       "      <td>45</td>\n",
       "      <td>6</td>\n",
       "      <td>Indian</td>\n",
       "      <td>Side Dish</td>\n",
       "      <td>Diabetic Friendly</td>\n",
       "      <td>To begin making the Masala Karela Recipe,de-se...</td>\n",
       "      <td>To begin making the Masala Karela Recipe,de-se...</td>\n",
       "      <td>https://www.archanaskitchen.com/masala-karela-...</td>\n",
       "    </tr>\n",
       "    <tr>\n",
       "      <th>1</th>\n",
       "      <td>2</td>\n",
       "      <td>टमाटर पुलियोगरे रेसिपी - Spicy Tomato Rice (Re...</td>\n",
       "      <td>Spicy Tomato Rice (Recipe)</td>\n",
       "      <td>2-1/2 कप चावल - पका ले,3 टमाटर,3 छोटा चमच्च बी...</td>\n",
       "      <td>2-1 / 2 cups rice - cooked, 3 tomatoes, 3 teas...</td>\n",
       "      <td>5</td>\n",
       "      <td>10</td>\n",
       "      <td>15</td>\n",
       "      <td>3</td>\n",
       "      <td>South Indian Recipes</td>\n",
       "      <td>Main Course</td>\n",
       "      <td>Vegetarian</td>\n",
       "      <td>टमाटर पुलियोगरे बनाने के लिए सबसे पहले टमाटर क...</td>\n",
       "      <td>To make tomato puliogere, first cut the tomato...</td>\n",
       "      <td>http://www.archanaskitchen.com/spicy-tomato-ri...</td>\n",
       "    </tr>\n",
       "    <tr>\n",
       "      <th>2</th>\n",
       "      <td>3</td>\n",
       "      <td>Ragi Semiya Upma Recipe - Ragi Millet Vermicel...</td>\n",
       "      <td>Ragi Semiya Upma Recipe - Ragi Millet Vermicel...</td>\n",
       "      <td>1-1/2 cups Rice Vermicelli Noodles (Thin),1 On...</td>\n",
       "      <td>1-1/2 cups Rice Vermicelli Noodles (Thin),1 On...</td>\n",
       "      <td>20</td>\n",
       "      <td>30</td>\n",
       "      <td>50</td>\n",
       "      <td>4</td>\n",
       "      <td>South Indian Recipes</td>\n",
       "      <td>South Indian Breakfast</td>\n",
       "      <td>High Protein Vegetarian</td>\n",
       "      <td>To begin making the Ragi Vermicelli Recipe, fi...</td>\n",
       "      <td>To begin making the Ragi Vermicelli Recipe, fi...</td>\n",
       "      <td>http://www.archanaskitchen.com/ragi-vermicelli...</td>\n",
       "    </tr>\n",
       "    <tr>\n",
       "      <th>3</th>\n",
       "      <td>4</td>\n",
       "      <td>Gongura Chicken Curry Recipe - Andhra Style Go...</td>\n",
       "      <td>Gongura Chicken Curry Recipe - Andhra Style Go...</td>\n",
       "      <td>500 grams Chicken,2 Onion - chopped,1 Tomato -...</td>\n",
       "      <td>500 grams Chicken,2 Onion - chopped,1 Tomato -...</td>\n",
       "      <td>15</td>\n",
       "      <td>30</td>\n",
       "      <td>45</td>\n",
       "      <td>4</td>\n",
       "      <td>Andhra</td>\n",
       "      <td>Lunch</td>\n",
       "      <td>Non Vegeterian</td>\n",
       "      <td>To begin making Gongura Chicken Curry Recipe f...</td>\n",
       "      <td>To begin making Gongura Chicken Curry Recipe f...</td>\n",
       "      <td>http://www.archanaskitchen.com/gongura-chicken...</td>\n",
       "    </tr>\n",
       "    <tr>\n",
       "      <th>4</th>\n",
       "      <td>5</td>\n",
       "      <td>आंध्रा स्टाइल आलम पचड़ी रेसिपी - Adrak Chutney ...</td>\n",
       "      <td>Andhra Style Alam Pachadi Recipe - Adrak Chutn...</td>\n",
       "      <td>1 बड़ा चमच्च चना दाल,1 बड़ा चमच्च सफ़ेद उरद दाल,2...</td>\n",
       "      <td>1 tablespoon chana dal, 1 tablespoon white ura...</td>\n",
       "      <td>10</td>\n",
       "      <td>20</td>\n",
       "      <td>30</td>\n",
       "      <td>4</td>\n",
       "      <td>Andhra</td>\n",
       "      <td>South Indian Breakfast</td>\n",
       "      <td>Vegetarian</td>\n",
       "      <td>आंध्रा स्टाइल आलम पचड़ी बनाने के लिए सबसे पहले ...</td>\n",
       "      <td>To make Andhra Style Alam Pachadi, first heat ...</td>\n",
       "      <td>https://www.archanaskitchen.com/andhra-style-a...</td>\n",
       "    </tr>\n",
       "  </tbody>\n",
       "</table>\n",
       "</div>"
      ],
      "text/plain": [
       "   Srno                                         RecipeName  \\\n",
       "0     1                               Masala Karela Recipe   \n",
       "1     2  टमाटर पुलियोगरे रेसिपी - Spicy Tomato Rice (Re...   \n",
       "2     3  Ragi Semiya Upma Recipe - Ragi Millet Vermicel...   \n",
       "3     4  Gongura Chicken Curry Recipe - Andhra Style Go...   \n",
       "4     5  आंध्रा स्टाइल आलम पचड़ी रेसिपी - Adrak Chutney ...   \n",
       "\n",
       "                                TranslatedRecipeName  \\\n",
       "0                               Masala Karela Recipe   \n",
       "1                         Spicy Tomato Rice (Recipe)   \n",
       "2  Ragi Semiya Upma Recipe - Ragi Millet Vermicel...   \n",
       "3  Gongura Chicken Curry Recipe - Andhra Style Go...   \n",
       "4  Andhra Style Alam Pachadi Recipe - Adrak Chutn...   \n",
       "\n",
       "                                         Ingredients  \\\n",
       "0  6 Karela (Bitter Gourd/ Pavakkai) - deseeded,S...   \n",
       "1  2-1/2 कप चावल - पका ले,3 टमाटर,3 छोटा चमच्च बी...   \n",
       "2  1-1/2 cups Rice Vermicelli Noodles (Thin),1 On...   \n",
       "3  500 grams Chicken,2 Onion - chopped,1 Tomato -...   \n",
       "4  1 बड़ा चमच्च चना दाल,1 बड़ा चमच्च सफ़ेद उरद दाल,2...   \n",
       "\n",
       "                               TranslatedIngredients  PrepTimeInMins  \\\n",
       "0  6 Karela (Bitter Gourd/ Pavakkai) - deseeded,S...              15   \n",
       "1  2-1 / 2 cups rice - cooked, 3 tomatoes, 3 teas...               5   \n",
       "2  1-1/2 cups Rice Vermicelli Noodles (Thin),1 On...              20   \n",
       "3  500 grams Chicken,2 Onion - chopped,1 Tomato -...              15   \n",
       "4  1 tablespoon chana dal, 1 tablespoon white ura...              10   \n",
       "\n",
       "   CookTimeInMins  TotalTimeInMins  Servings               Cuisine  \\\n",
       "0              30               45         6                Indian   \n",
       "1              10               15         3  South Indian Recipes   \n",
       "2              30               50         4  South Indian Recipes   \n",
       "3              30               45         4                Andhra   \n",
       "4              20               30         4                Andhra   \n",
       "\n",
       "                   Course                     Diet  \\\n",
       "0               Side Dish        Diabetic Friendly   \n",
       "1             Main Course               Vegetarian   \n",
       "2  South Indian Breakfast  High Protein Vegetarian   \n",
       "3                   Lunch           Non Vegeterian   \n",
       "4  South Indian Breakfast               Vegetarian   \n",
       "\n",
       "                                        Instructions  \\\n",
       "0  To begin making the Masala Karela Recipe,de-se...   \n",
       "1  टमाटर पुलियोगरे बनाने के लिए सबसे पहले टमाटर क...   \n",
       "2  To begin making the Ragi Vermicelli Recipe, fi...   \n",
       "3  To begin making Gongura Chicken Curry Recipe f...   \n",
       "4  आंध्रा स्टाइल आलम पचड़ी बनाने के लिए सबसे पहले ...   \n",
       "\n",
       "                              TranslatedInstructions  \\\n",
       "0  To begin making the Masala Karela Recipe,de-se...   \n",
       "1  To make tomato puliogere, first cut the tomato...   \n",
       "2  To begin making the Ragi Vermicelli Recipe, fi...   \n",
       "3  To begin making Gongura Chicken Curry Recipe f...   \n",
       "4  To make Andhra Style Alam Pachadi, first heat ...   \n",
       "\n",
       "                                                 URL  \n",
       "0  https://www.archanaskitchen.com/masala-karela-...  \n",
       "1  http://www.archanaskitchen.com/spicy-tomato-ri...  \n",
       "2  http://www.archanaskitchen.com/ragi-vermicelli...  \n",
       "3  http://www.archanaskitchen.com/gongura-chicken...  \n",
       "4  https://www.archanaskitchen.com/andhra-style-a...  "
      ]
     },
     "execution_count": 33,
     "metadata": {},
     "output_type": "execute_result"
    }
   ],
   "source": [
    "df.head(5)"
   ]
  },
  {
   "cell_type": "markdown",
   "id": "8eb3f5d5-b387-4725-a1d7-bc9fd3df7b28",
   "metadata": {},
   "source": [
    "*For working ahead on the dataset, got the data of columns with **head()** .* "
   ]
  },
  {
   "cell_type": "markdown",
   "id": "f5c04a53-26b5-450b-9484-b3cc9f85ec1d",
   "metadata": {},
   "source": [
    "___"
   ]
  },
  {
   "cell_type": "markdown",
   "id": "d81b1d32-78ed-4e44-81d7-20580a346626",
   "metadata": {},
   "source": [
    "# **2 DATA CLEANING**"
   ]
  },
  {
   "cell_type": "markdown",
   "id": "453064b5-3352-487d-bbc1-246709b177e5",
   "metadata": {},
   "source": [
    "2.1 Are there any missing values in the dataset?"
   ]
  },
  {
   "cell_type": "code",
   "execution_count": 35,
   "id": "208526b1-e3e2-4312-84b8-402d8b334e0f",
   "metadata": {},
   "outputs": [
    {
     "data": {
      "text/plain": [
       "Srno                      0\n",
       "RecipeName                0\n",
       "TranslatedRecipeName      0\n",
       "Ingredients               6\n",
       "TranslatedIngredients     6\n",
       "PrepTimeInMins            0\n",
       "CookTimeInMins            0\n",
       "TotalTimeInMins           0\n",
       "Servings                  0\n",
       "Cuisine                   0\n",
       "Course                    0\n",
       "Diet                      0\n",
       "Instructions              0\n",
       "TranslatedInstructions    0\n",
       "URL                       0\n",
       "dtype: int64"
      ]
     },
     "execution_count": 35,
     "metadata": {},
     "output_type": "execute_result"
    }
   ],
   "source": [
    "df.isnull().sum()"
   ]
  },
  {
   "cell_type": "markdown",
   "id": "ca29a990-04d9-4ddf-8869-c75e702eaa52",
   "metadata": {},
   "source": [
    "*Finding no. of null values in columns, for cleaning the dataset. Here **isnull()** is used.* "
   ]
  },
  {
   "cell_type": "markdown",
   "id": "ea45d377-2581-49aa-bd2e-e7c7c0f1ac6f",
   "metadata": {},
   "source": [
    "___"
   ]
  },
  {
   "cell_type": "markdown",
   "id": "7bf9a517-9400-4b07-ae18-49a4668dea8f",
   "metadata": {},
   "source": [
    "2.2 Remove duplicate rows (if any)."
   ]
  },
  {
   "cell_type": "code",
   "execution_count": 38,
   "id": "0fe0772f-1260-46ee-b88d-3b64251349f0",
   "metadata": {
    "scrolled": true
   },
   "outputs": [
    {
     "data": {
      "text/html": [
       "<div>\n",
       "<style scoped>\n",
       "    .dataframe tbody tr th:only-of-type {\n",
       "        vertical-align: middle;\n",
       "    }\n",
       "\n",
       "    .dataframe tbody tr th {\n",
       "        vertical-align: top;\n",
       "    }\n",
       "\n",
       "    .dataframe thead th {\n",
       "        text-align: right;\n",
       "    }\n",
       "</style>\n",
       "<table border=\"1\" class=\"dataframe\">\n",
       "  <thead>\n",
       "    <tr style=\"text-align: right;\">\n",
       "      <th></th>\n",
       "      <th>Srno</th>\n",
       "      <th>RecipeName</th>\n",
       "      <th>TranslatedRecipeName</th>\n",
       "      <th>Ingredients</th>\n",
       "      <th>TranslatedIngredients</th>\n",
       "      <th>PrepTimeInMins</th>\n",
       "      <th>CookTimeInMins</th>\n",
       "      <th>TotalTimeInMins</th>\n",
       "      <th>Servings</th>\n",
       "      <th>Cuisine</th>\n",
       "      <th>Course</th>\n",
       "      <th>Diet</th>\n",
       "      <th>Instructions</th>\n",
       "      <th>TranslatedInstructions</th>\n",
       "      <th>URL</th>\n",
       "    </tr>\n",
       "  </thead>\n",
       "  <tbody>\n",
       "    <tr>\n",
       "      <th>0</th>\n",
       "      <td>1</td>\n",
       "      <td>Masala Karela Recipe</td>\n",
       "      <td>Masala Karela Recipe</td>\n",
       "      <td>6 Karela (Bitter Gourd/ Pavakkai) - deseeded,S...</td>\n",
       "      <td>6 Karela (Bitter Gourd/ Pavakkai) - deseeded,S...</td>\n",
       "      <td>15</td>\n",
       "      <td>30</td>\n",
       "      <td>45</td>\n",
       "      <td>6</td>\n",
       "      <td>Indian</td>\n",
       "      <td>Side Dish</td>\n",
       "      <td>Diabetic Friendly</td>\n",
       "      <td>To begin making the Masala Karela Recipe,de-se...</td>\n",
       "      <td>To begin making the Masala Karela Recipe,de-se...</td>\n",
       "      <td>https://www.archanaskitchen.com/masala-karela-...</td>\n",
       "    </tr>\n",
       "    <tr>\n",
       "      <th>1</th>\n",
       "      <td>2</td>\n",
       "      <td>टमाटर पुलियोगरे रेसिपी - Spicy Tomato Rice (Re...</td>\n",
       "      <td>Spicy Tomato Rice (Recipe)</td>\n",
       "      <td>2-1/2 कप चावल - पका ले,3 टमाटर,3 छोटा चमच्च बी...</td>\n",
       "      <td>2-1 / 2 cups rice - cooked, 3 tomatoes, 3 teas...</td>\n",
       "      <td>5</td>\n",
       "      <td>10</td>\n",
       "      <td>15</td>\n",
       "      <td>3</td>\n",
       "      <td>South Indian Recipes</td>\n",
       "      <td>Main Course</td>\n",
       "      <td>Vegetarian</td>\n",
       "      <td>टमाटर पुलियोगरे बनाने के लिए सबसे पहले टमाटर क...</td>\n",
       "      <td>To make tomato puliogere, first cut the tomato...</td>\n",
       "      <td>http://www.archanaskitchen.com/spicy-tomato-ri...</td>\n",
       "    </tr>\n",
       "    <tr>\n",
       "      <th>2</th>\n",
       "      <td>3</td>\n",
       "      <td>Ragi Semiya Upma Recipe - Ragi Millet Vermicel...</td>\n",
       "      <td>Ragi Semiya Upma Recipe - Ragi Millet Vermicel...</td>\n",
       "      <td>1-1/2 cups Rice Vermicelli Noodles (Thin),1 On...</td>\n",
       "      <td>1-1/2 cups Rice Vermicelli Noodles (Thin),1 On...</td>\n",
       "      <td>20</td>\n",
       "      <td>30</td>\n",
       "      <td>50</td>\n",
       "      <td>4</td>\n",
       "      <td>South Indian Recipes</td>\n",
       "      <td>South Indian Breakfast</td>\n",
       "      <td>High Protein Vegetarian</td>\n",
       "      <td>To begin making the Ragi Vermicelli Recipe, fi...</td>\n",
       "      <td>To begin making the Ragi Vermicelli Recipe, fi...</td>\n",
       "      <td>http://www.archanaskitchen.com/ragi-vermicelli...</td>\n",
       "    </tr>\n",
       "    <tr>\n",
       "      <th>3</th>\n",
       "      <td>4</td>\n",
       "      <td>Gongura Chicken Curry Recipe - Andhra Style Go...</td>\n",
       "      <td>Gongura Chicken Curry Recipe - Andhra Style Go...</td>\n",
       "      <td>500 grams Chicken,2 Onion - chopped,1 Tomato -...</td>\n",
       "      <td>500 grams Chicken,2 Onion - chopped,1 Tomato -...</td>\n",
       "      <td>15</td>\n",
       "      <td>30</td>\n",
       "      <td>45</td>\n",
       "      <td>4</td>\n",
       "      <td>Andhra</td>\n",
       "      <td>Lunch</td>\n",
       "      <td>Non Vegeterian</td>\n",
       "      <td>To begin making Gongura Chicken Curry Recipe f...</td>\n",
       "      <td>To begin making Gongura Chicken Curry Recipe f...</td>\n",
       "      <td>http://www.archanaskitchen.com/gongura-chicken...</td>\n",
       "    </tr>\n",
       "    <tr>\n",
       "      <th>4</th>\n",
       "      <td>5</td>\n",
       "      <td>आंध्रा स्टाइल आलम पचड़ी रेसिपी - Adrak Chutney ...</td>\n",
       "      <td>Andhra Style Alam Pachadi Recipe - Adrak Chutn...</td>\n",
       "      <td>1 बड़ा चमच्च चना दाल,1 बड़ा चमच्च सफ़ेद उरद दाल,2...</td>\n",
       "      <td>1 tablespoon chana dal, 1 tablespoon white ura...</td>\n",
       "      <td>10</td>\n",
       "      <td>20</td>\n",
       "      <td>30</td>\n",
       "      <td>4</td>\n",
       "      <td>Andhra</td>\n",
       "      <td>South Indian Breakfast</td>\n",
       "      <td>Vegetarian</td>\n",
       "      <td>आंध्रा स्टाइल आलम पचड़ी बनाने के लिए सबसे पहले ...</td>\n",
       "      <td>To make Andhra Style Alam Pachadi, first heat ...</td>\n",
       "      <td>https://www.archanaskitchen.com/andhra-style-a...</td>\n",
       "    </tr>\n",
       "    <tr>\n",
       "      <th>...</th>\n",
       "      <td>...</td>\n",
       "      <td>...</td>\n",
       "      <td>...</td>\n",
       "      <td>...</td>\n",
       "      <td>...</td>\n",
       "      <td>...</td>\n",
       "      <td>...</td>\n",
       "      <td>...</td>\n",
       "      <td>...</td>\n",
       "      <td>...</td>\n",
       "      <td>...</td>\n",
       "      <td>...</td>\n",
       "      <td>...</td>\n",
       "      <td>...</td>\n",
       "      <td>...</td>\n",
       "    </tr>\n",
       "    <tr>\n",
       "      <th>6866</th>\n",
       "      <td>14073</td>\n",
       "      <td>गोअन मशरुम जकुटी रेसिपी - Goan Mushroom Xacuti...</td>\n",
       "      <td>Goan Mushroom Xacuti Recipe</td>\n",
       "      <td>20 बटन मशरुम,2 प्याज - काट ले,1 टमाटर - बारीक ...</td>\n",
       "      <td>20 बटन मशरुम,2 प्याज - काट ले,1 टमाटर - बारीक ...</td>\n",
       "      <td>15</td>\n",
       "      <td>45</td>\n",
       "      <td>60</td>\n",
       "      <td>4</td>\n",
       "      <td>Goan Recipes</td>\n",
       "      <td>Lunch</td>\n",
       "      <td>Vegetarian</td>\n",
       "      <td>गोअन मशरुम जकुटी रेसिपी बनाने के लिए सबसे पहले...</td>\n",
       "      <td>गोअन मशरुम जकुटी रेसिपी बनाने के लिए सबसे पहले...</td>\n",
       "      <td>https://www.archanaskitchen.com/goan-mushroom-...</td>\n",
       "    </tr>\n",
       "    <tr>\n",
       "      <th>6867</th>\n",
       "      <td>14107</td>\n",
       "      <td>शकरकंदी और मेथी का पराठा रेसिपी - Sweet Potato...</td>\n",
       "      <td>Sweet Potato &amp; Methi Stuffed Paratha Recipe</td>\n",
       "      <td>1 बड़ा चम्मच तेल,1 कप गेहूं का आटा,नमक - स्वाद ...</td>\n",
       "      <td>1 बड़ा चम्मच तेल,1 कप गेहूं का आटा,नमक - स्वाद ...</td>\n",
       "      <td>30</td>\n",
       "      <td>60</td>\n",
       "      <td>90</td>\n",
       "      <td>4</td>\n",
       "      <td>North Indian Recipes</td>\n",
       "      <td>North Indian Breakfast</td>\n",
       "      <td>Diabetic Friendly</td>\n",
       "      <td>शकरकंदी और मेथी का पराठा रेसिपी बनाने के लिए स...</td>\n",
       "      <td>शकरकंदी और मेथी का पराठा रेसिपी बनाने के लिए स...</td>\n",
       "      <td>https://www.archanaskitchen.com/sweet-potato-m...</td>\n",
       "    </tr>\n",
       "    <tr>\n",
       "      <th>6868</th>\n",
       "      <td>14165</td>\n",
       "      <td>Ullikadala Pulusu Recipe | Spring Onion Curry</td>\n",
       "      <td>Ullikadala Pulusu Recipe | Spring Onion Curry</td>\n",
       "      <td>150 grams Spring Onion (Bulb &amp; Greens) - chopp...</td>\n",
       "      <td>150 grams Spring Onion (Bulb &amp; Greens) - chopp...</td>\n",
       "      <td>5</td>\n",
       "      <td>10</td>\n",
       "      <td>15</td>\n",
       "      <td>2</td>\n",
       "      <td>Andhra</td>\n",
       "      <td>Side Dish</td>\n",
       "      <td>Vegetarian</td>\n",
       "      <td>To begin making Ullikadala Pulusu Recipe | Spr...</td>\n",
       "      <td>To begin making Ullikadala Pulusu Recipe | Spr...</td>\n",
       "      <td>https://www.archanaskitchen.com/ullikadala-pul...</td>\n",
       "    </tr>\n",
       "    <tr>\n",
       "      <th>6869</th>\n",
       "      <td>14167</td>\n",
       "      <td>Kashmiri Style Kokur Yakhni Recipe-Chicken Coo...</td>\n",
       "      <td>Kashmiri Style Kokur Yakhni Recipe-Chicken Coo...</td>\n",
       "      <td>1 kg Chicken - medium pieces,1/2 cup Mustard o...</td>\n",
       "      <td>1 kg Chicken - medium pieces,1/2 cup Mustard o...</td>\n",
       "      <td>30</td>\n",
       "      <td>45</td>\n",
       "      <td>75</td>\n",
       "      <td>4</td>\n",
       "      <td>Kashmiri</td>\n",
       "      <td>Lunch</td>\n",
       "      <td>Non Vegeterian</td>\n",
       "      <td>To begin making the Kashmiri Kokur Yakhni reci...</td>\n",
       "      <td>To begin making the Kashmiri Kokur Yakhni reci...</td>\n",
       "      <td>http://www.archanaskitchen.com/kashmiri-kokur-...</td>\n",
       "    </tr>\n",
       "    <tr>\n",
       "      <th>6870</th>\n",
       "      <td>14211</td>\n",
       "      <td>नवरंग दाल रेसिपी - Navrang Dal Recipe</td>\n",
       "      <td>Navrang Dal Recipe</td>\n",
       "      <td>2 बड़े चम्मच हरी मूंग दाल,2 बड़े चम्मच सफ़ेद उरद ...</td>\n",
       "      <td>2 बड़े चम्मच हरी मूंग दाल,2 बड़े चम्मच सफ़ेद उरद ...</td>\n",
       "      <td>10</td>\n",
       "      <td>30</td>\n",
       "      <td>40</td>\n",
       "      <td>4</td>\n",
       "      <td>North Indian Recipes</td>\n",
       "      <td>Lunch</td>\n",
       "      <td>High Protein Vegetarian</td>\n",
       "      <td>नवरंग दाल रेसिपी  बनाने के लिए सबसे पहले सारी ...</td>\n",
       "      <td>नवरंग दाल रेसिपी  बनाने के लिए सबसे पहले सारी ...</td>\n",
       "      <td>https://www.archanaskitchen.com/navrang-dal-re...</td>\n",
       "    </tr>\n",
       "  </tbody>\n",
       "</table>\n",
       "<p>6871 rows × 15 columns</p>\n",
       "</div>"
      ],
      "text/plain": [
       "       Srno                                         RecipeName  \\\n",
       "0         1                               Masala Karela Recipe   \n",
       "1         2  टमाटर पुलियोगरे रेसिपी - Spicy Tomato Rice (Re...   \n",
       "2         3  Ragi Semiya Upma Recipe - Ragi Millet Vermicel...   \n",
       "3         4  Gongura Chicken Curry Recipe - Andhra Style Go...   \n",
       "4         5  आंध्रा स्टाइल आलम पचड़ी रेसिपी - Adrak Chutney ...   \n",
       "...     ...                                                ...   \n",
       "6866  14073  गोअन मशरुम जकुटी रेसिपी - Goan Mushroom Xacuti...   \n",
       "6867  14107  शकरकंदी और मेथी का पराठा रेसिपी - Sweet Potato...   \n",
       "6868  14165      Ullikadala Pulusu Recipe | Spring Onion Curry   \n",
       "6869  14167  Kashmiri Style Kokur Yakhni Recipe-Chicken Coo...   \n",
       "6870  14211              नवरंग दाल रेसिपी - Navrang Dal Recipe   \n",
       "\n",
       "                                   TranslatedRecipeName  \\\n",
       "0                                  Masala Karela Recipe   \n",
       "1                            Spicy Tomato Rice (Recipe)   \n",
       "2     Ragi Semiya Upma Recipe - Ragi Millet Vermicel...   \n",
       "3     Gongura Chicken Curry Recipe - Andhra Style Go...   \n",
       "4     Andhra Style Alam Pachadi Recipe - Adrak Chutn...   \n",
       "...                                                 ...   \n",
       "6866                        Goan Mushroom Xacuti Recipe   \n",
       "6867        Sweet Potato & Methi Stuffed Paratha Recipe   \n",
       "6868      Ullikadala Pulusu Recipe | Spring Onion Curry   \n",
       "6869  Kashmiri Style Kokur Yakhni Recipe-Chicken Coo...   \n",
       "6870                                 Navrang Dal Recipe   \n",
       "\n",
       "                                            Ingredients  \\\n",
       "0     6 Karela (Bitter Gourd/ Pavakkai) - deseeded,S...   \n",
       "1     2-1/2 कप चावल - पका ले,3 टमाटर,3 छोटा चमच्च बी...   \n",
       "2     1-1/2 cups Rice Vermicelli Noodles (Thin),1 On...   \n",
       "3     500 grams Chicken,2 Onion - chopped,1 Tomato -...   \n",
       "4     1 बड़ा चमच्च चना दाल,1 बड़ा चमच्च सफ़ेद उरद दाल,2...   \n",
       "...                                                 ...   \n",
       "6866  20 बटन मशरुम,2 प्याज - काट ले,1 टमाटर - बारीक ...   \n",
       "6867  1 बड़ा चम्मच तेल,1 कप गेहूं का आटा,नमक - स्वाद ...   \n",
       "6868  150 grams Spring Onion (Bulb & Greens) - chopp...   \n",
       "6869  1 kg Chicken - medium pieces,1/2 cup Mustard o...   \n",
       "6870  2 बड़े चम्मच हरी मूंग दाल,2 बड़े चम्मच सफ़ेद उरद ...   \n",
       "\n",
       "                                  TranslatedIngredients  PrepTimeInMins  \\\n",
       "0     6 Karela (Bitter Gourd/ Pavakkai) - deseeded,S...              15   \n",
       "1     2-1 / 2 cups rice - cooked, 3 tomatoes, 3 teas...               5   \n",
       "2     1-1/2 cups Rice Vermicelli Noodles (Thin),1 On...              20   \n",
       "3     500 grams Chicken,2 Onion - chopped,1 Tomato -...              15   \n",
       "4     1 tablespoon chana dal, 1 tablespoon white ura...              10   \n",
       "...                                                 ...             ...   \n",
       "6866  20 बटन मशरुम,2 प्याज - काट ले,1 टमाटर - बारीक ...              15   \n",
       "6867  1 बड़ा चम्मच तेल,1 कप गेहूं का आटा,नमक - स्वाद ...              30   \n",
       "6868  150 grams Spring Onion (Bulb & Greens) - chopp...               5   \n",
       "6869  1 kg Chicken - medium pieces,1/2 cup Mustard o...              30   \n",
       "6870  2 बड़े चम्मच हरी मूंग दाल,2 बड़े चम्मच सफ़ेद उरद ...              10   \n",
       "\n",
       "      CookTimeInMins  TotalTimeInMins  Servings               Cuisine  \\\n",
       "0                 30               45         6                Indian   \n",
       "1                 10               15         3  South Indian Recipes   \n",
       "2                 30               50         4  South Indian Recipes   \n",
       "3                 30               45         4                Andhra   \n",
       "4                 20               30         4                Andhra   \n",
       "...              ...              ...       ...                   ...   \n",
       "6866              45               60         4          Goan Recipes   \n",
       "6867              60               90         4  North Indian Recipes   \n",
       "6868              10               15         2                Andhra   \n",
       "6869              45               75         4              Kashmiri   \n",
       "6870              30               40         4  North Indian Recipes   \n",
       "\n",
       "                      Course                     Diet  \\\n",
       "0                  Side Dish        Diabetic Friendly   \n",
       "1                Main Course               Vegetarian   \n",
       "2     South Indian Breakfast  High Protein Vegetarian   \n",
       "3                      Lunch           Non Vegeterian   \n",
       "4     South Indian Breakfast               Vegetarian   \n",
       "...                      ...                      ...   \n",
       "6866                   Lunch               Vegetarian   \n",
       "6867  North Indian Breakfast        Diabetic Friendly   \n",
       "6868               Side Dish               Vegetarian   \n",
       "6869                   Lunch           Non Vegeterian   \n",
       "6870                   Lunch  High Protein Vegetarian   \n",
       "\n",
       "                                           Instructions  \\\n",
       "0     To begin making the Masala Karela Recipe,de-se...   \n",
       "1     टमाटर पुलियोगरे बनाने के लिए सबसे पहले टमाटर क...   \n",
       "2     To begin making the Ragi Vermicelli Recipe, fi...   \n",
       "3     To begin making Gongura Chicken Curry Recipe f...   \n",
       "4     आंध्रा स्टाइल आलम पचड़ी बनाने के लिए सबसे पहले ...   \n",
       "...                                                 ...   \n",
       "6866  गोअन मशरुम जकुटी रेसिपी बनाने के लिए सबसे पहले...   \n",
       "6867  शकरकंदी और मेथी का पराठा रेसिपी बनाने के लिए स...   \n",
       "6868  To begin making Ullikadala Pulusu Recipe | Spr...   \n",
       "6869  To begin making the Kashmiri Kokur Yakhni reci...   \n",
       "6870  नवरंग दाल रेसिपी  बनाने के लिए सबसे पहले सारी ...   \n",
       "\n",
       "                                 TranslatedInstructions  \\\n",
       "0     To begin making the Masala Karela Recipe,de-se...   \n",
       "1     To make tomato puliogere, first cut the tomato...   \n",
       "2     To begin making the Ragi Vermicelli Recipe, fi...   \n",
       "3     To begin making Gongura Chicken Curry Recipe f...   \n",
       "4     To make Andhra Style Alam Pachadi, first heat ...   \n",
       "...                                                 ...   \n",
       "6866  गोअन मशरुम जकुटी रेसिपी बनाने के लिए सबसे पहले...   \n",
       "6867  शकरकंदी और मेथी का पराठा रेसिपी बनाने के लिए स...   \n",
       "6868  To begin making Ullikadala Pulusu Recipe | Spr...   \n",
       "6869  To begin making the Kashmiri Kokur Yakhni reci...   \n",
       "6870  नवरंग दाल रेसिपी  बनाने के लिए सबसे पहले सारी ...   \n",
       "\n",
       "                                                    URL  \n",
       "0     https://www.archanaskitchen.com/masala-karela-...  \n",
       "1     http://www.archanaskitchen.com/spicy-tomato-ri...  \n",
       "2     http://www.archanaskitchen.com/ragi-vermicelli...  \n",
       "3     http://www.archanaskitchen.com/gongura-chicken...  \n",
       "4     https://www.archanaskitchen.com/andhra-style-a...  \n",
       "...                                                 ...  \n",
       "6866  https://www.archanaskitchen.com/goan-mushroom-...  \n",
       "6867  https://www.archanaskitchen.com/sweet-potato-m...  \n",
       "6868  https://www.archanaskitchen.com/ullikadala-pul...  \n",
       "6869  http://www.archanaskitchen.com/kashmiri-kokur-...  \n",
       "6870  https://www.archanaskitchen.com/navrang-dal-re...  \n",
       "\n",
       "[6871 rows x 15 columns]"
      ]
     },
     "execution_count": 38,
     "metadata": {},
     "output_type": "execute_result"
    }
   ],
   "source": [
    "df.drop_duplicates()"
   ]
  },
  {
   "cell_type": "markdown",
   "id": "3a977be4-63bf-4e4f-8c0f-43626f6b17f8",
   "metadata": {},
   "source": [
    "*Removed the duplicates, with the hepl of **drop_duplicates()** .*"
   ]
  },
  {
   "cell_type": "markdown",
   "id": "aae88851-3319-408f-854e-39213993bb54",
   "metadata": {},
   "source": [
    "___"
   ]
  },
  {
   "cell_type": "markdown",
   "id": "fa76e9a2-f2d1-4a57-b3be-454f7e0784b5",
   "metadata": {},
   "source": [
    "2.3 Convert time coloumns to numeric data types."
   ]
  },
  {
   "cell_type": "code",
   "execution_count": 6,
   "id": "4c1180e1-8cdb-413f-911b-6c6cadaba8c8",
   "metadata": {},
   "outputs": [],
   "source": [
    "df['TotalTimeInMins']=pd.to_numeric(df['TotalTimeInMins'])\n",
    "df['PrepTimeInMins']=pd.to_numeric(df['PrepTimeInMins'])\n",
    "df['CookTimeInMins']=pd.to_numeric(df['CookTimeInMins'])"
   ]
  },
  {
   "cell_type": "code",
   "execution_count": 67,
   "id": "56314075-3572-42fd-9fb0-717958bd3726",
   "metadata": {},
   "outputs": [
    {
     "data": {
      "text/plain": [
       "Srno                       int64\n",
       "RecipeName                object\n",
       "TranslatedRecipeName      object\n",
       "Ingredients               object\n",
       "TranslatedIngredients     object\n",
       "PrepTimeInMins             int64\n",
       "CookTimeInMins             int64\n",
       "TotalTimeInMins            int64\n",
       "Servings                   int64\n",
       "Cuisine                   object\n",
       "Course                    object\n",
       "Diet                      object\n",
       "Instructions              object\n",
       "TranslatedInstructions    object\n",
       "URL                       object\n",
       "Total_ingredients         object\n",
       "dtype: object"
      ]
     },
     "execution_count": 67,
     "metadata": {},
     "output_type": "execute_result"
    }
   ],
   "source": [
    "df.dtypes #check the data type"
   ]
  },
  {
   "cell_type": "markdown",
   "id": "5322c7dd-611f-42f7-aa2f-277fee1d0102",
   "metadata": {},
   "source": [
    "___"
   ]
  },
  {
   "cell_type": "markdown",
   "id": "39538986-9cc8-47d9-b2d9-020fda754aa0",
   "metadata": {},
   "source": [
    "# **3 VISUALISATION QUESTIONS**"
   ]
  },
  {
   "cell_type": "markdown",
   "id": "fc7ca975-ffdb-4ecb-8474-e3eb00bc0be6",
   "metadata": {},
   "source": [
    "3.1. Plot distribution of dishes by diet type "
   ]
  },
  {
   "cell_type": "code",
   "execution_count": 39,
   "id": "dbf206a8-786d-44f4-83a8-6b3b127713b0",
   "metadata": {},
   "outputs": [
    {
     "data": {
      "text/plain": [
       "([0, 1, 2, 3, 4, 5, 6, 7, 8, 9],\n",
       " [Text(0, 0, 'Diabetic Friendly'),\n",
       "  Text(1, 0, 'Vegetarian'),\n",
       "  Text(2, 0, 'High Protein Vegetarian'),\n",
       "  Text(3, 0, 'Non Vegeterian'),\n",
       "  Text(4, 0, 'High Protein Non Vegetarian'),\n",
       "  Text(5, 0, 'Eggetarian'),\n",
       "  Text(6, 0, 'Vegan'),\n",
       "  Text(7, 0, 'No Onion No Garlic (Sattvic)'),\n",
       "  Text(8, 0, 'Gluten Free'),\n",
       "  Text(9, 0, 'Sugar Free Diet')])"
      ]
     },
     "execution_count": 39,
     "metadata": {},
     "output_type": "execute_result"
    },
    {
     "data": {
      "image/png": "[encoded data removed]",
      "text/plain": [
       "<Figure size 640x480 with 1 Axes>"
      ]
     },
     "metadata": {},
     "output_type": "display_data"
    }
   ],
   "source": [
    "sns.countplot(x='Diet', data=df)\n",
    "plt.xticks(rotation=90)"
   ]
  },
  {
   "cell_type": "markdown",
   "id": "b04e2f2c-f9be-4590-8c87-1640434bf246",
   "metadata": {},
   "source": [
    "*Plotted a countplot of dishes by diet type, finding that the maximum dishes are **vegetarion** .*"
   ]
  },
  {
   "cell_type": "markdown",
   "id": "5da176e9-f6e5-4677-8f1b-ae3609fcee92",
   "metadata": {},
   "source": [
    "___"
   ]
  },
  {
   "cell_type": "markdown",
   "id": "84dc616f-14fc-4be4-a737-3e23994476f7",
   "metadata": {},
   "source": [
    "3.2.Pie chart of diet types."
   ]
  },
  {
   "cell_type": "code",
   "execution_count": 35,
   "id": "2921e881-aea0-4033-95ff-df1e0b58ac92",
   "metadata": {},
   "outputs": [
    {
     "data": {
      "text/plain": [
       "<Axes: ylabel='count'>"
      ]
     },
     "execution_count": 35,
     "metadata": {},
     "output_type": "execute_result"
    },
    {
     "data": {
      "image/png": "[encoded data removed]",
      "text/plain": [
       "<Figure size 640x480 with 1 Axes>"
      ]
     },
     "metadata": {},
     "output_type": "display_data"
    }
   ],
   "source": [
    "df['Diet'].value_counts().plot.pie()\n"
   ]
  },
  {
   "cell_type": "markdown",
   "id": "a4e060a9-f9a4-41e3-94fa-a1c6b99ee6d6",
   "metadata": {},
   "source": [
    "___"
   ]
  },
  {
   "cell_type": "markdown",
   "id": "5c79f76c-9a5a-4756-827a-4fb66e692d66",
   "metadata": {},
   "source": [
    "3.3. Distribution of total cooking time"
   ]
  },
  {
   "cell_type": "code",
   "execution_count": 13,
   "id": "77a930fe-cced-4644-b602-428db4a921a3",
   "metadata": {},
   "outputs": [
    {
     "data": {
      "text/plain": [
       "<Axes: xlabel='TotalTimeInMins', ylabel='Count'>"
      ]
     },
     "execution_count": 13,
     "metadata": {},
     "output_type": "execute_result"
    },
    {
     "data": {
      "image/png": "[encoded data removed]",
      "text/plain": [
       "<Figure size 640x480 with 1 Axes>"
      ]
     },
     "metadata": {},
     "output_type": "display_data"
    }
   ],
   "source": [
    "sns.histplot(df['TotalTimeInMins'], bins=50, kde=True)"
   ]
  },
  {
   "cell_type": "markdown",
   "id": "18a3f046-60c6-4b2e-bdc0-eaf94a5eed21",
   "metadata": {},
   "source": [
    "___"
   ]
  },
  {
   "cell_type": "markdown",
   "id": "9d355c52-329b-4d55-9faf-88e058ab47d9",
   "metadata": {},
   "source": [
    "3.4.Boxplot: Total time grouped by Course"
   ]
  },
  {
   "cell_type": "code",
   "execution_count": 85,
   "id": "ee2fca4a-7044-4efb-8404-77b9c07d7099",
   "metadata": {},
   "outputs": [
    {
     "data": {
      "text/plain": [
       "([0, 1, 2, 3, 4, 5, 6, 7, 8, 9, 10, 11, 12, 13, 14, 15, 16, 17, 18, 19],\n",
       " [Text(0, 0, 'Side Dish'),\n",
       "  Text(1, 0, 'Main Course'),\n",
       "  Text(2, 0, 'South Indian Breakfast'),\n",
       "  Text(3, 0, 'Lunch'),\n",
       "  Text(4, 0, 'Snack'),\n",
       "  Text(5, 0, 'High Protein Vegetarian'),\n",
       "  Text(6, 0, 'Dinner'),\n",
       "  Text(7, 0, 'Appetizer'),\n",
       "  Text(8, 0, 'Indian Breakfast'),\n",
       "  Text(9, 0, 'Dessert'),\n",
       "  Text(10, 0, 'North Indian Breakfast'),\n",
       "  Text(11, 0, 'One Pot Dish'),\n",
       "  Text(12, 0, 'World Breakfast'),\n",
       "  Text(13, 0, 'Non Vegeterian'),\n",
       "  Text(14, 0, 'Vegetarian'),\n",
       "  Text(15, 0, 'Eggetarian'),\n",
       "  Text(16, 0, 'No Onion No Garlic (Sattvic)'),\n",
       "  Text(17, 0, 'Brunch'),\n",
       "  Text(18, 0, 'Vegan'),\n",
       "  Text(19, 0, 'Sugar Free Diet')])"
      ]
     },
     "execution_count": 85,
     "metadata": {},
     "output_type": "execute_result"
    },
    {
     "data": {
      "image/png": "[encoded data removed]",
      "text/plain": [
       "<Figure size 640x480 with 1 Axes>"
      ]
     },
     "metadata": {},
     "output_type": "display_data"
    }
   ],
   "source": [
    "sns.boxplot(x='Course', y='TotalTimeInMins', data=df)\n",
    "plt.xticks(rotation=90)"
   ]
  },
  {
   "cell_type": "markdown",
   "id": "3fde4aba-3e7f-4407-a93c-3a8fea98be8d",
   "metadata": {},
   "source": [
    "___"
   ]
  },
  {
   "cell_type": "markdown",
   "id": "0aae8c3a-f55d-4fc8-a84d-3156137d32a6",
   "metadata": {},
   "source": [
    "3.5.Heatmap of correlations between time columns"
   ]
  },
  {
   "cell_type": "code",
   "execution_count": 42,
   "id": "7825b620-8a4c-42e5-890b-3f3fb19c3d83",
   "metadata": {},
   "outputs": [
    {
     "data": {
      "text/plain": [
       "<Axes: >"
      ]
     },
     "execution_count": 42,
     "metadata": {},
     "output_type": "execute_result"
    },
    {
     "data": {
      "image/png": "[encoded data removed]",
      "text/plain": [
       "<Figure size 640x480 with 2 Axes>"
      ]
     },
     "metadata": {},
     "output_type": "display_data"
    }
   ],
   "source": [
    "sns.heatmap(df[['PrepTimeInMins','CookTimeInMins', 'TotalTimeInMins']]. corr(), annot=True)"
   ]
  },
  {
   "cell_type": "markdown",
   "id": "e53e023b-a190-406b-a07e-da3f9d10a459",
   "metadata": {},
   "source": [
    "___"
   ]
  },
  {
   "cell_type": "markdown",
   "id": "6a8ee9d7-a042-41f6-bc2c-36ccf9b49ed8",
   "metadata": {},
   "source": [
    "# **4 INSIGHT QUESTIONS**"
   ]
  },
  {
   "cell_type": "markdown",
   "id": "4508ffcb-70fc-47b9-8625-7c6d985311e0",
   "metadata": {},
   "source": [
    "4.1. Which cuisine has the longest average total time?"
   ]
  },
  {
   "cell_type": "code",
   "execution_count": 45,
   "id": "b86faefb-1dc0-4f4a-be57-af190d96c218",
   "metadata": {},
   "outputs": [
    {
     "data": {
      "text/plain": [
       "Cuisine\n",
       "Nepalese           219.375000\n",
       "Appetizer          152.500000\n",
       "Himachal           141.764706\n",
       "Greek              117.777778\n",
       "Oriya Recipes      116.205882\n",
       "                      ...    \n",
       "Afghan              30.000000\n",
       "Shandong            30.000000\n",
       "Malaysian           29.000000\n",
       "World Breakfast     24.166667\n",
       "Brunch              20.000000\n",
       "Name: TotalTimeInMins, Length: 82, dtype: float64"
      ]
     },
     "execution_count": 45,
     "metadata": {},
     "output_type": "execute_result"
    }
   ],
   "source": [
    "df.groupby('Cuisine')['TotalTimeInMins'].mean().sort_values(ascending=False)"
   ]
  },
  {
   "cell_type": "markdown",
   "id": "55ebe594-5b9f-4cd7-887c-6da34e7bcae5",
   "metadata": {},
   "source": []
  },
  {
   "cell_type": "markdown",
   "id": "0ffe6ac1-7b31-4ebb-bf40-4e9c1a3292de",
   "metadata": {},
   "source": [
    "___"
   ]
  },
  {
   "cell_type": "markdown",
   "id": "8a12ce23-8dc8-4043-afc8-34358c4bfb4d",
   "metadata": {},
   "source": [
    "4.2.Which course is the most common?"
   ]
  },
  {
   "cell_type": "code",
   "execution_count": 46,
   "id": "6165093c-5c0f-4b31-93b8-76cc231760eb",
   "metadata": {},
   "outputs": [
    {
     "data": {
      "text/plain": [
       "Course\n",
       "Lunch                           1765\n",
       "Side Dish                        992\n",
       "Snack                            876\n",
       "Dinner                           782\n",
       "Dessert                          659\n",
       "Appetizer                        639\n",
       "Main Course                      315\n",
       "South Indian Breakfast           260\n",
       "World Breakfast                  260\n",
       "North Indian Breakfast           123\n",
       "Indian Breakfast                 101\n",
       "Vegetarian                        47\n",
       "One Pot Dish                      33\n",
       "High Protein Vegetarian            7\n",
       "Brunch                             4\n",
       "Vegan                              3\n",
       "Non Vegeterian                     2\n",
       "Eggetarian                         1\n",
       "No Onion No Garlic (Sattvic)       1\n",
       "Sugar Free Diet                    1\n",
       "Name: count, dtype: int64"
      ]
     },
     "execution_count": 46,
     "metadata": {},
     "output_type": "execute_result"
    }
   ],
   "source": [
    "df['Course'].value_counts()"
   ]
  },
  {
   "cell_type": "markdown",
   "id": "3de0b9f0-589c-4b80-8dd7-7f33933add59",
   "metadata": {},
   "source": [
    "___"
   ]
  },
  {
   "cell_type": "markdown",
   "id": "1321177c-22ee-4860-825c-ae7df51826ba",
   "metadata": {},
   "source": [
    "4.3.What are the top 5 longest recipes by total time?"
   ]
  },
  {
   "cell_type": "code",
   "execution_count": 68,
   "id": "21e5f5f8-ea56-43b2-a5c2-6bf4d74a7e02",
   "metadata": {},
   "outputs": [
    {
     "data": {
      "text/html": [
       "<div>\n",
       "<style scoped>\n",
       "    .dataframe tbody tr th:only-of-type {\n",
       "        vertical-align: middle;\n",
       "    }\n",
       "\n",
       "    .dataframe tbody tr th {\n",
       "        vertical-align: top;\n",
       "    }\n",
       "\n",
       "    .dataframe thead th {\n",
       "        text-align: right;\n",
       "    }\n",
       "</style>\n",
       "<table border=\"1\" class=\"dataframe\">\n",
       "  <thead>\n",
       "    <tr style=\"text-align: right;\">\n",
       "      <th></th>\n",
       "      <th>TranslatedRecipeName</th>\n",
       "      <th>TotalTimeInMins</th>\n",
       "    </tr>\n",
       "  </thead>\n",
       "  <tbody>\n",
       "    <tr>\n",
       "      <th>4288</th>\n",
       "      <td>Traditional Christmas Cake Recipe</td>\n",
       "      <td>2925</td>\n",
       "    </tr>\n",
       "    <tr>\n",
       "      <th>934</th>\n",
       "      <td>Kavati recipe - Nepali Beans Soup (Recipe)</td>\n",
       "      <td>1470</td>\n",
       "    </tr>\n",
       "    <tr>\n",
       "      <th>4525</th>\n",
       "      <td>Bhagara Peetha Recipe - Baghara Pitha</td>\n",
       "      <td>1470</td>\n",
       "    </tr>\n",
       "    <tr>\n",
       "      <th>6477</th>\n",
       "      <td>Homemade Quick Puff Pastry Sheet Recipe | Perf...</td>\n",
       "      <td>1440</td>\n",
       "    </tr>\n",
       "    <tr>\n",
       "      <th>2988</th>\n",
       "      <td>Dairy Free Balsamic Strawberry Ice-cream Recipe</td>\n",
       "      <td>980</td>\n",
       "    </tr>\n",
       "  </tbody>\n",
       "</table>\n",
       "</div>"
      ],
      "text/plain": [
       "                                   TranslatedRecipeName  TotalTimeInMins\n",
       "4288                  Traditional Christmas Cake Recipe             2925\n",
       "934          Kavati recipe - Nepali Beans Soup (Recipe)             1470\n",
       "4525              Bhagara Peetha Recipe - Baghara Pitha             1470\n",
       "6477  Homemade Quick Puff Pastry Sheet Recipe | Perf...             1440\n",
       "2988    Dairy Free Balsamic Strawberry Ice-cream Recipe              980"
      ]
     },
     "execution_count": 68,
     "metadata": {},
     "output_type": "execute_result"
    }
   ],
   "source": [
    "df[['TranslatedRecipeName', 'TotalTimeInMins']].sort_values(by='TotalTimeInMins', ascending=False).head(5)"
   ]
  },
  {
   "cell_type": "markdown",
   "id": "089d135a-74a5-46b9-abea-aa1cf0ebb72e",
   "metadata": {},
   "source": [
    "___"
   ]
  },
  {
   "cell_type": "markdown",
   "id": "34442668-562b-4728-a176-766db28e988a",
   "metadata": {},
   "source": [
    "# **5 DEEP ANALYSIS**"
   ]
  },
  {
   "cell_type": "markdown",
   "id": "53fd7c61-01d2-420e-81cb-e7a84c7cd491",
   "metadata": {},
   "source": [
    "5.1.Which diet type takes the most time on average?"
   ]
  },
  {
   "cell_type": "code",
   "execution_count": 74,
   "id": "72cdf8b2-3787-4279-b405-031a0447fde0",
   "metadata": {},
   "outputs": [
    {
     "data": {
      "text/plain": [
       "Diet\n",
       "Gluten Free                     93.440000\n",
       "Vegan                           71.475410\n",
       "High Protein Vegetarian         71.317730\n",
       "Diabetic Friendly               69.557692\n",
       "Eggetarian                      68.043605\n",
       "Non Vegeterian                  64.243560\n",
       "Vegetarian                      56.196095\n",
       "High Protein Non Vegetarian     51.297778\n",
       "No Onion No Garlic (Sattvic)    42.534247\n",
       "Sugar Free Diet                 41.428571\n",
       "Name: TotalTimeInMins, dtype: float64"
      ]
     },
     "execution_count": 74,
     "metadata": {},
     "output_type": "execute_result"
    }
   ],
   "source": [
    "df.groupby('Diet')['TotalTimeInMins'].mean().sort_values(ascending =False)"
   ]
  },
  {
   "cell_type": "markdown",
   "id": "56fea493-7eec-4dcb-8fa6-842f391860e2",
   "metadata": {},
   "source": [
    "*Using **gropuby()** to group the diet on the basis of total time, thus founded that on average gluten free diet takes the longest to be prepared.* "
   ]
  },
  {
   "cell_type": "markdown",
   "id": "e2c1cf6c-5b6b-4fe5-9cf2-ffc3fb127651",
   "metadata": {},
   "source": [
    "___"
   ]
  },
  {
   "cell_type": "markdown",
   "id": "68a5817f-c427-40b4-891b-4c0341b7509c",
   "metadata": {},
   "source": [
    "5.2.Find dishes that take more than 1 hour total time"
   ]
  },
  {
   "cell_type": "code",
   "execution_count": 81,
   "id": "f02cd4b8-e681-441e-8710-eb867c096b5a",
   "metadata": {},
   "outputs": [
    {
     "data": {
      "text/html": [
       "<div>\n",
       "<style scoped>\n",
       "    .dataframe tbody tr th:only-of-type {\n",
       "        vertical-align: middle;\n",
       "    }\n",
       "\n",
       "    .dataframe tbody tr th {\n",
       "        vertical-align: top;\n",
       "    }\n",
       "\n",
       "    .dataframe thead th {\n",
       "        text-align: right;\n",
       "    }\n",
       "</style>\n",
       "<table border=\"1\" class=\"dataframe\">\n",
       "  <thead>\n",
       "    <tr style=\"text-align: right;\">\n",
       "      <th></th>\n",
       "      <th>TranslatedRecipeName</th>\n",
       "      <th>TotalTimeInMins</th>\n",
       "    </tr>\n",
       "  </thead>\n",
       "  <tbody>\n",
       "    <tr>\n",
       "      <th>10</th>\n",
       "      <td>Homemade Baked Beans Recipe (Wholesome &amp; Healthy)</td>\n",
       "      <td>120</td>\n",
       "    </tr>\n",
       "    <tr>\n",
       "      <th>28</th>\n",
       "      <td>Mini Dal Mature Chat Recipe - That Perfect Par...</td>\n",
       "      <td>65</td>\n",
       "    </tr>\n",
       "    <tr>\n",
       "      <th>31</th>\n",
       "      <td>Sundakkai and Methi Leaves Sambar Recipe - Sun...</td>\n",
       "      <td>65</td>\n",
       "    </tr>\n",
       "    <tr>\n",
       "      <th>35</th>\n",
       "      <td>Kerala pala pradham recipe</td>\n",
       "      <td>90</td>\n",
       "    </tr>\n",
       "    <tr>\n",
       "      <th>46</th>\n",
       "      <td>Whole Wheat Pita Bread Recipe</td>\n",
       "      <td>70</td>\n",
       "    </tr>\n",
       "    <tr>\n",
       "      <th>...</th>\n",
       "      <td>...</td>\n",
       "      <td>...</td>\n",
       "    </tr>\n",
       "    <tr>\n",
       "      <th>6861</th>\n",
       "      <td>One Pot Punjabi Rajma Masala Recipe In Preethi...</td>\n",
       "      <td>105</td>\n",
       "    </tr>\n",
       "    <tr>\n",
       "      <th>6862</th>\n",
       "      <td>Creamy Spinach And Potato Breakfast Casserole ...</td>\n",
       "      <td>65</td>\n",
       "    </tr>\n",
       "    <tr>\n",
       "      <th>6864</th>\n",
       "      <td>Italian Arancini Rice Balls Recipe With Delici...</td>\n",
       "      <td>100</td>\n",
       "    </tr>\n",
       "    <tr>\n",
       "      <th>6867</th>\n",
       "      <td>Sweet Potato &amp; Methi Stuffed Paratha Recipe</td>\n",
       "      <td>90</td>\n",
       "    </tr>\n",
       "    <tr>\n",
       "      <th>6869</th>\n",
       "      <td>Kashmiri Style Kokur Yakhni Recipe-Chicken Coo...</td>\n",
       "      <td>75</td>\n",
       "    </tr>\n",
       "  </tbody>\n",
       "</table>\n",
       "<p>1241 rows × 2 columns</p>\n",
       "</div>"
      ],
      "text/plain": [
       "                                   TranslatedRecipeName  TotalTimeInMins\n",
       "10    Homemade Baked Beans Recipe (Wholesome & Healthy)              120\n",
       "28    Mini Dal Mature Chat Recipe - That Perfect Par...               65\n",
       "31    Sundakkai and Methi Leaves Sambar Recipe - Sun...               65\n",
       "35                           Kerala pala pradham recipe               90\n",
       "46                        Whole Wheat Pita Bread Recipe               70\n",
       "...                                                 ...              ...\n",
       "6861  One Pot Punjabi Rajma Masala Recipe In Preethi...              105\n",
       "6862  Creamy Spinach And Potato Breakfast Casserole ...               65\n",
       "6864  Italian Arancini Rice Balls Recipe With Delici...              100\n",
       "6867        Sweet Potato & Methi Stuffed Paratha Recipe               90\n",
       "6869  Kashmiri Style Kokur Yakhni Recipe-Chicken Coo...               75\n",
       "\n",
       "[1241 rows x 2 columns]"
      ]
     },
     "execution_count": 81,
     "metadata": {},
     "output_type": "execute_result"
    }
   ],
   "source": [
    "df[df['TotalTimeInMins']>60][['TranslatedRecipeName', 'TotalTimeInMins']]"
   ]
  },
  {
   "cell_type": "markdown",
   "id": "59cfdf9d-88be-467e-91f8-e5fedb1853a7",
   "metadata": {},
   "source": [
    "*There are total **1241** dishes that takes more than 1 hour total time.*"
   ]
  },
  {
   "cell_type": "markdown",
   "id": "fe65f782-8f63-459a-af00-b7a0e0f36b76",
   "metadata": {},
   "source": [
    "___"
   ]
  },
  {
   "cell_type": "markdown",
   "id": "af55d35c-4b83-4294-a200-484cc562b524",
   "metadata": {},
   "source": [
    "5.3.Which course takes longest to prepare?"
   ]
  },
  {
   "cell_type": "code",
   "execution_count": 88,
   "id": "4d9c833f-22d9-48f3-b182-545790375124",
   "metadata": {},
   "outputs": [
    {
     "data": {
      "text/plain": [
       "Course\n",
       "High Protein Vegetarian         162.142857\n",
       "South Indian Breakfast          112.957692\n",
       "Dessert                          93.597876\n",
       "Indian Breakfast                 77.148515\n",
       "Main Course                      71.406349\n",
       "Snack                            60.057078\n",
       "Dinner                           58.158568\n",
       "Vegetarian                       58.106383\n",
       "One Pot Dish                     54.848485\n",
       "Lunch                            53.800000\n",
       "Non Vegeterian                   52.500000\n",
       "Appetizer                        50.737089\n",
       "North Indian Breakfast           50.666667\n",
       "World Breakfast                  41.011538\n",
       "Brunch                           40.000000\n",
       "Side Dish                        38.779234\n",
       "Vegan                            31.666667\n",
       "No Onion No Garlic (Sattvic)     30.000000\n",
       "Sugar Free Diet                  15.000000\n",
       "Eggetarian                       10.000000\n",
       "Name: TotalTimeInMins, dtype: float64"
      ]
     },
     "execution_count": 88,
     "metadata": {},
     "output_type": "execute_result"
    }
   ],
   "source": [
    "df.groupby('Course')['TotalTimeInMins'].mean().sort_values(ascending=False)"
   ]
  },
  {
   "cell_type": "markdown",
   "id": "b3046961-5f9b-41a7-aa34-cdf24ab484c7",
   "metadata": {},
   "source": [
    "*On the basis of course, by using gropuby(), **High protein vegetarion** takes the longest to be prepared.**"
   ]
  },
  {
   "cell_type": "markdown",
   "id": "f33dd2ae-3579-4b38-af9c-5320f8a9c829",
   "metadata": {},
   "source": [
    "___"
   ]
  },
  {
   "cell_type": "markdown",
   "id": "1e77e3a3-2774-4a5a-b0d0-d20b88b1da84",
   "metadata": {},
   "source": [
    "#***KEY INSIGHTS***"
   ]
  },
  {
   "cell_type": "markdown",
   "id": "d50f7ab8-2dc8-4860-8bcc-ff0b2f95d1aa",
   "metadata": {},
   "source": [
    "1.Firstly there are total 6871 rows and 15 columns in the dataset."
   ]
  },
  {
   "cell_type": "markdown",
   "id": "99f67202-aee6-4494-81b6-ad038e0ccc18",
   "metadata": {},
   "source": [
    "2.Maximum recipies are *vegetarion* followed by *high protein veg* and *sugar free* recipies are the least. "
   ]
  },
  {
   "cell_type": "markdown",
   "id": "6c50c3da-6ea5-433f-9a9b-5da967ee4d3d",
   "metadata": {},
   "source": [
    "3.On the basis of cuisuine, *Indain* cuisine leads the table. "
   ]
  },
  {
   "cell_type": "markdown",
   "id": "c17ab8f0-492b-4946-ab4f-d3442a19c847",
   "metadata": {},
   "source": [
    "4.*Napalese* cuisine takes the maximum total time among all the cuisines."
   ]
  },
  {
   "cell_type": "markdown",
   "id": "f99b5192-cd09-4ed0-ba1c-4b992f85c923",
   "metadata": {},
   "source": [
    "5.*Trditional Christmas cake* takes the longest to be prepared that is 2925 mins."
   ]
  },
  {
   "cell_type": "markdown",
   "id": "29d418ae-2572-4e04-9dd7-af6ff35f6e9e",
   "metadata": {},
   "source": [
    "6.Talking by diet *gluten free* recipies takes the longest time, whereas *sugar free* diet takes the least.  "
   ]
  },
  {
   "cell_type": "markdown",
   "id": "5869db89-d562-40a4-95c3-971d1c44a20a",
   "metadata": {},
   "source": [
    "7.On the basis of course *high portein veg* takes the most while *eggetarion* takes the least time."
   ]
  },
  {
   "cell_type": "markdown",
   "id": "64b0add0-8798-47ff-8951-f099d37c686b",
   "metadata": {},
   "source": [
    "___"
   ]
  }
 ],
 "metadata": {
  "kernelspec": {
   "display_name": "Python 3 (ipykernel)",
   "language": "python",
   "name": "python3"
  },
  "language_info": {
   "codemirror_mode": {
    "name": "ipython",
    "version": 3
   },
   "file_extension": ".py",
   "mimetype": "text/x-python",
   "name": "python",
   "nbconvert_exporter": "python",
   "pygments_lexer": "ipython3",
   "version": "3.12.5"
  }
 },
 "nbformat": 4,
 "nbformat_minor": 5
}
